{
 "cells": [
  {
   "cell_type": "markdown",
   "id": "d3bfc191-8885-42ee-b0a0-bbab867c6f9f",
   "metadata": {
    "tags": []
   },
   "source": [
    "# Lab | Flow Control"
   ]
  },
  {
   "cell_type": "markdown",
   "id": "3851fcd1-cf98-4653-9c89-e003b7ec9400",
   "metadata": {},
   "source": [
    "## Exercise: Managing Customer Orders Optimized\n",
    "\n",
    "In the last lab, you were starting an online store that sells various products. To ensure smooth operations, you developed a program that manages customer orders and inventory.\n",
    "\n",
    "You did so without using flow control. Let's go a step further and improve this code.\n",
    "\n",
    "Follow the steps below to complete the exercise:\n",
    "\n",
    "1. Look at your code from the lab data structures, and improve repeated code with loops.\n",
    "\n",
    "2. Instead of asking the user to input the name of three products that a customer wants to order, do the following:\n",
    "    \n",
    "    a. Prompt the user to enter the name of a product that a customer wants to order.\n",
    "    \n",
    "    b. Add the product name to the \"customer_orders\" set.\n",
    "    \n",
    "    c. Ask the user if they want to add another product (yes/no).\n",
    "    \n",
    "    d. Continue the loop until the user does not want to add another product.\n",
    "\n",
    "3. Instead of updating the inventory by subtracting 1 from the quantity of each product, only do it for  the products that were ordered (those in \"customer_orders\")."
   ]
  },
  {
   "cell_type": "code",
   "execution_count": 2,
   "id": "211c3343",
   "metadata": {},
   "outputs": [
    {
     "name": "stdout",
     "output_type": "stream",
     "text": [
      "{'hat', 'jat'}\n",
      "Total Products Ordered: 2\n",
      "Percentage of Products Ordered: 40.0%\n",
      "Product: hat\n",
      "We have 0\n",
      "Product: book\n",
      "We have 1\n",
      "Product: mug\n",
      "We have 1\n",
      "Product: keychain\n",
      "We have 1\n",
      "Product: t-shirt\n",
      "We have 1\n"
     ]
    }
   ],
   "source": [
    "def main():\n",
    "    products = {\n",
    "        \"t-shirt\",\n",
    "        \"mug\",\n",
    "        \"hat\",\n",
    "        \"book\",\n",
    "        \"keychain\"\n",
    "    }\n",
    "    inventory = {}\n",
    "\n",
    "    for i in products:\n",
    "        inventory[i] = int(input(f\"Quantity of {i}?\"))\n",
    "\n",
    "    customer_orders = set()\n",
    "    prod = \"yes\"\n",
    "    while (prod != \"no\"):\n",
    "        prod = input(\"What product do you want to order?\")\n",
    "        customer_orders.add(prod)\n",
    "        prod = (input(\"Do you want to add another product? (yes/no)\"))\n",
    "    print(customer_orders)\n",
    "    #number of costumer orders\n",
    "    print(f\"Total Products Ordered: {len(customer_orders)}\")\n",
    "    #percentage\n",
    "    order_status = len(customer_orders) / len(products) * 100\n",
    "    print(f\"Percentage of Products Ordered: {order_status}%\")\n",
    "    \n",
    "    for product in products:\n",
    "        for order in customer_orders:\n",
    "            if (product == order):\n",
    "                inventory[product] -= 1\n",
    "\n",
    "    for i in products:\n",
    "        print(f\"Product: {i}\\nWe have {inventory[i]}\")\n",
    "\n",
    "if __name__ == \"__main__\":\n",
    "    main()"
   ]
  }
 ],
 "metadata": {
  "kernelspec": {
   "display_name": "base",
   "language": "python",
   "name": "python3"
  },
  "language_info": {
   "codemirror_mode": {
    "name": "ipython",
    "version": 3
   },
   "file_extension": ".py",
   "mimetype": "text/x-python",
   "name": "python",
   "nbconvert_exporter": "python",
   "pygments_lexer": "ipython3",
   "version": "3.12.7"
  }
 },
 "nbformat": 4,
 "nbformat_minor": 5
}
